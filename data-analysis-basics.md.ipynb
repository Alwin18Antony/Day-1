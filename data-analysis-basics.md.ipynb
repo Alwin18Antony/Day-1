{
 "cells": [
  {
   "cell_type": "markdown",
   "id": "06848708-7c16-4458-b462-3d6c78e833e9",
   "metadata": {},
   "source": [
    "# Day 1\n",
    "## Task title - Research Data Analysis and Core Tools\n",
    "1. Research the following topics:\n",
    " . What is data analysis?\n",
    " . Key industries where data analysis is used.\n",
    " . Core tools used by data analysts (Excel, SQL, Python, Tableau, etc.).\n",
    "2. Write a summary explaining the purpose and role of data analysis and a brief description of each tool.\n",
    "   Companies and business collect a lot of data but all these data are in raw form. In order to process and analyze this data, to get useful insights      that are helpful in improving business, data analysis is used. Data analysts can interpret the raw data into meaningful insights which can help         companies to make the most informed decisons. So data analysis can also be termed as business intelligence which can be used to solve problems and      challenges that every company has.\n",
    "\n",
    "   \n",
    "   In the current world almost every industry seeks out benefits driven by data analysis because of the impact it can have on various                      aspects of a business. Many industries like healthcare, finanace and banking, retail and e-commerce,education etc. are benefitted by                    gathering the right kind of insights from the interpreted data after analysis.\n",
    "   \n",
    "    *Ways in which data analysis can help organizations*:\n",
    "   \n",
    "      . Provides factual basis upon which better decisions can be made rather than being biased or confused while making a decision.\n",
    "      . Plays a key role in identifying trends and patterns by analysing historical data that could predict outcomes as well as problems within the             industry.\n",
    "      . Performance measurements can be done with greater ease thus resulting in constant evaluation of the progress made towards the goal.\n",
    "      . Customer behavior and preferences can be analysed to have a much more personalized marketing stratergy for eachg individual.\n",
    "      . Industries can strategically plan the organizational goals with the help of data driven insights .\n",
    "\n",
    "   \n",
    "   *Core tools used by data analysts*\n",
    "\n",
    "      . Microsoft Excel: It is one the most simplest and powerful tools which is used in data analysis. Excel is used to run basic queries and to               create pivot tables,graphs and charts for visually representing the data. It also features a macro programming language called visual basic             which helps in task automation. A limitation excel posses is it's performance with large data sets.\n",
    "\n",
    "      . SQL(Structured Query Language): If there is one tool that one can't miss out if they are to learn data analysis it is SQL, which is considered          as something indispensable. SQL serves as the primary language to communicate with relational databases such as MySQL, PostgreSQL etc. It helps         in accessing, cleaning, preparing,transforming and exporting data fron large data sets. Using SQL, one can tap into the databases with their            queries which should be in a SQL syntax. We can also insert or store more information in a database using SQL. SQL databases are relational and         is stored in a tabular form. Large data sets can be accessed easily with SQL unlike excel which has it's limitations wghile handling big data.\n",
    "   \n",
    "      . Tableau: It is used as a data visualisation and business intelligence tool. Using tableau one can present their data in a much more interactive         way. It can integrate with variety of data sources like SQL databases, excel, cloud services etc with live dat connection for real time updates         on data. User friendly interface is another aspect of tableau which helps in completing tasks with greater ease. There are lot of options               available in visualising the data like charts,graphs, heat maps etc. Interactive dashboards allows users to combine multiple visualizations             into a single interactive interface which includes elements like tooltips, drill downs ,filters etc. Sharing of dashboards can also be done in          tableau securely.\n",
    "\n",
    "      . Python: It is a programming language which is indispensable in data analysis. Even though there are many tools which helps in handling data             python has many features which allows users to easily collect, clean, explore, analyse, visualize and automate data. Python can gather data             from different sources like files, databases, API's etc. After collecting the data python can clean and prepare by eliminating duplicates and           inconsistent data using libraries like pandas. THings like report generation can be automated with python easily.\n",
    "\n",
    "3. Which tool interests you the most and why?\n",
    "   As a beginer in the field of data analysis I'm really curious about finding out how things work as a whole right from how the data is collected and     the methods and tools which are incorporated to clean and assign data in a way which can be visually represented as an end product which meets the      user requirements. However the thing that excites me the most is the various ways in which data can be visualized and I guess tools like tableau are    the ones who does this job. It is essential to gather, handle and clean up the data but the visualization after analysis is the end product which       speaks for the whole work put behind it I guess. Using different graphs, charts, tables, heatmaps etc. makes the final product much more engaging       and informative for people.\n",
    "   \n",
    "   \n",
    " "
   ]
  }
 ],
 "metadata": {
  "kernelspec": {
   "display_name": "Python 3 (ipykernel)",
   "language": "python",
   "name": "python3"
  },
  "language_info": {
   "codemirror_mode": {
    "name": "ipython",
    "version": 3
   },
   "file_extension": ".py",
   "mimetype": "text/x-python",
   "name": "python",
   "nbconvert_exporter": "python",
   "pygments_lexer": "ipython3",
   "version": "3.13.0"
  }
 },
 "nbformat": 4,
 "nbformat_minor": 5
}
